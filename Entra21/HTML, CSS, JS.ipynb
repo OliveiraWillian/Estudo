{
 "cells": [
  {
   "cell_type": "markdown",
   "metadata": {},
   "source": [
    "# <kbd>HTML Progamando Meu Futuro </kbd>\n",
    "    HTML BASICO\n",
    "\n",
    "lgumas tags não necessitam de fechamento, como <br>, <img> ou <meta>,\n",
    "O HMTL é uma linguagem de marcação case-insensitive, ou seja, não diferencia maiúsculas de minúsculas\n",
    "\n",
    "Lista desordenada ul\n",
    "item 1\n",
    "item 2\n",
    "item 3\n",
    "Lista ordenada (padrão) OL\n",
    "item 1\n",
    "item 2\n",
    "item 3\n",
    "Lista ordenada com letra\n",
    "item 1\n",
    "item 2\n",
    "item 3\n",
    "\n",
    "\n",
    "Sumario 1 dt\n",
    "1.1tag title dd\n",
    "1.2tags meta dd\n",
    "\n"
   ]
  },
  {
   "cell_type": "code",
   "execution_count": null,
   "metadata": {
    "vscode": {
     "languageId": "html"
    }
   },
   "outputs": [],
   "source": [
    "<body>\n",
    "<form action=\"#\" method=\"post\">\n",
    "    <!-- action: Nesse atributo, você adicionará o endereço do arquivo/para qual página serão enviados os dados que serão processados. -->\n",
    "    <!-- method: especifica a forma como serão enviados os dados. Existem duas opções a serem atribuídas. Podem ser method=”get” e method=”post”. Quando o usuário preenche os dados do formulário, os valores que ele inseriu são passados pela URL, tendo como parâmetro esses dados, no caso do get, ao passo que o post é passado por uma transação HTTP, ou seja, não é passado pela URL. -->\n",
    "    <label for=\"name\">Nome:</label>\n",
    "    <input type=\"text\" id=\"name\" name=\"name\" maxlength=\"15\" required autocomplete>\n",
    "    <!-- maxlenght: Nesse atributo é definida a quantidade de caracteres que o usuário poderá digitar naquele campo. -->\n",
    "    <!-- name: Nome do componente. -->\n",
    "    <!-- required: É atribuído para um campo que deve ser preenchido obrigatoriamente para que o formulário seja enviado, ou seja, caso o campo não seja preenchido, o formulário não será enviado. -->\n",
    "    <!-- autocomplete: Quando o usuário preenche o campo e envia o formulário, os dados ficam salvos; assim, caso ele queira enviar o formulário novamente, não é necessário redigitar todos os dados. -->\n",
    "    <br><br>\n",
    "    <label for=\"email\">E-mail:</label>\n",
    "    <input type=\"email\" id=\"email\" name=\"email\" maxlength=\"40\" required autocomplete>\n",
    "    <label for=\"exmplo\">Exemplo</label>\n",
    "    <input type=\"email\" id=\"exemplo\" name=\"exemplo\" value=\"example@example.com\" readonly>\n",
    "    <!-- readonly: Atributo booleano (true or false), no qual o usuário não pode alterar o valor do controle. Ele é utilizado com o atributo value, em que recebe um valor e fica bloqueado para alteração de dados. -->\n",
    "    <br><br>\n",
    "    <label for=\"tel\">Telefone:</label>\n",
    "    <input type=\"tel\" id=\"tel\" name=\"tel\" maxlength=\"11\" required autocomplete>\n",
    "    <br><br>\n",
    "    <label for=\"curriculo\">Currículo:</label>\n",
    "    <input type=\"file\" id=\"curriculo\" name=\"curriculo\" required autocomplete>\n",
    "    <br><br>\n",
    "    <label for=\"name\">Nome:</label>\n",
    "    <input type=\"nome\" id=\"nome\" name=\"nome\" maxlength=\"25\" required autocomplete>\n",
    "    <br><br>\n",
    "    <div style=\"float:left\">\n",
    "        <input type=\"submit\" id=\"btn-enviar\" name=\"btn-enviar\" required >\n",
    "    </div>\n",
    "    <div>\n",
    "    <!-- textarea: atribuído para a caixa de texto -->\n",
    "    <!-- rows: define a quantidade de linhas e altera a altura do textarea -->\n",
    "    <!-- cols: define a quantidade de colunas e altera a largura do textarea -->\n",
    "    <!-- minlength: define a quantidade mínima de caracteres de um input -->\n",
    "    <!-- placeholder: define uma mensagem dentro da área de texto -->\n",
    "    <label for=\"mensagem\">Mensagem:</label>\n",
    "    <textarea id=\"mensagem\" name=\"mensagem\" rows=\"5\" cols=\"20\" maxlength=\"200\" minlength=\"2\" placeholder=\"Digite aqui sua mensagem\" required autocomplete>\n"
   ]
  }
 ],
 "metadata": {
  "kernelspec": {
   "display_name": "Python 3",
   "language": "python",
   "name": "python3"
  },
  "language_info": {
   "codemirror_mode": {
    "name": "ipython",
    "version": 3
   },
   "file_extension": ".py",
   "mimetype": "text/x-python",
   "name": "python",
   "nbconvert_exporter": "python",
   "pygments_lexer": "ipython3",
   "version": "3.8.8"
  }
 },
 "nbformat": 4,
 "nbformat_minor": 4
}
