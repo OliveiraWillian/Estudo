{
 "cells": [
  {
   "cell_type": "markdown",
   "metadata": {},
   "source": [
    "# <kbd>JAVA Progamando Meu Futuro </kbd>\n",
    "    Progamação orientasda a objeto, todo progama em java roda em class\n",
    "\n",
    "    Comentarios // /**/"
   ]
  },
  {
   "cell_type": "markdown",
   "metadata": {},
   "source": [
    "### <kbd>Tipos Artmeticos:</kbd>  <kbd>' * /  % '</kbd> , <kbd>'  +  - '</kbd>\n",
    "\n",
    "\n",
    "###  <kbd> Variavel</kbd>\n",
    "< Tipo >  < Nome > = < Valor Inicial >"
   ]
  },
  {
   "cell_type": "code",
   "execution_count": null,
   "metadata": {
    "vscode": {
     "languageId": "java"
    }
   },
   "outputs": [],
   "source": [
    "int idade = 25;\n",
    "double altura,peso;\n",
    "char letra;\n",
    "String nome;\n",
    "\n",
    "Tipos tamanho  Valor                Valor Padrao    \n",
    "byte  8 bits  -128 a 127                 0           Inteiro\n",
    "short 16 bits -32765 a 32767             0           Inteiro\n",
    "int   32 bits -21474483648 a 47          0           Inteiro\n",
    "long  64 bits -9223372036854770000       0L          Inteiro\n",
    "\n",
    "float  32 bits -1,4029e-37 a +38         0 0 F       Ponto Flutuante\n",
    "double 64 bits -4,94E-307 a +308         0 0         Ponto Flutuante\n",
    "\n",
    "char   16 '\\U0000' a '\\UFFFF'             '\\U0000'   Caractere\n",
    "boolean  1 bit {false,true}       false              Valor Verdadeiro\n",
    "String 16 '\\U0000' a '\\UFFFF'             '\\U0000'   Caractere\n",
    "\n",
    "|Coreto                                   Erado\n",
    "int 5_minuutos;                       int 5minutos;\n",
    "int salario;                          int salário;\n",
    "int salarioDoFuncionario;             int salário do funcionario; "
   ]
  },
  {
   "cell_type": "markdown",
   "metadata": {},
   "source": [
    "### <kbd>Troca  da linguagem padrao IDE</kbd>\n",
    " "
   ]
  },
  {
   "cell_type": "code",
   "execution_count": null,
   "metadata": {
    "vscode": {
     "languageId": "java"
    }
   },
   "outputs": [],
   "source": [
    "\n",
    "\n",
    "import java.util.Locale;\n",
    "Locale.setDefault(Locale.US);\n",
    "System.out.print\n",
    "System.out.println\n",
    "System.out.printf(\"%.4f\\n\",x);\n",
    "System.out.printf(\" %s tem %d  anos e %f kg \\n\",willian,idade, x);\n",
    "\n",
    "#Tipos printf\n",
    "%d,%s,%f,\\n"
   ]
  },
  {
   "cell_type": "markdown",
   "metadata": {},
   "source": [
    "\n",
    "## <kbd>Comando de Atribuição '  =  '</kbd>\n",
    "\n",
    "    casting (int)"
   ]
  },
  {
   "cell_type": "code",
   "execution_count": null,
   "metadata": {
    "vscode": {
     "languageId": "java"
    }
   },
   "outputs": [],
   "source": [
    "int valor = 5 ;\n",
    "double valor2 ;\n",
    "\n",
    "valor = (int) valor2 "
   ]
  },
  {
   "cell_type": "markdown",
   "metadata": {},
   "source": [
    "\n",
    "## <kbd>Entrada de dados </kbd>\n",
    "leitura da dados pelo teclado\n",
    "\n",
    "### <kbd>Scaner</kbd>\n",
    "\n",
    "      | next()\n",
    "\n",
    "      | nextint()\n",
    "\n",
    "      | nextDouble()\n",
    "\n",
    "      | next().charAt(0)\n",
    "    \n",
    "\n",
    "    - Como ler ate a quebra de linha\n",
    "\n",
    "      |  nextLine()\n",
    "\n",
    "     -Como limpar o buffer de leitura"
   ]
  },
  {
   "cell_type": "code",
   "execution_count": null,
   "metadata": {
    "vscode": {
     "languageId": "java"
    }
   },
   "outputs": [],
   "source": [
    "import java.util.Scanner;\n",
    "\n",
    "\n",
    "Scanner entrada = new Scanner(System.in);\n",
    "\n",
    "\n",
    "char umcaractere;\n",
    " # umcaractere = entrada.next().charAt(0);\n",
    "\n",
    "System.out.println(\"Digite Algo:\");\n",
    "int idade;\n",
    "inteiro # idade = entrada.nextInt();\n",
    "double idade;\n",
    "Flutuante # idade = entrada.nextDouble();\n",
    "String dados;\n",
    "String # idade = entrada.next();\n",
    "\n",
    "System.out.printf(\"voce digitou %s\",idade);\n",
    "entrada.close();"
   ]
  },
  {
   "cell_type": "markdown",
   "metadata": {},
   "source": [
    "## <kbd>FUNCOES MATEMATICAS</kbd>"
   ]
  },
  {
   "cell_type": "markdown",
   "metadata": {},
   "source": [
    "Exemplo A,= Math.sgrt(x);  Significado         Variável A recebe a raiz quadrada de x\n",
    "\n",
    "Exemplo A = Math.pow(x, y); Significado         Variável A recebe o resultado de x elevado a y\n",
    "\n",
    "Exemplo A = Math.abs(x); Significado             Variável A recebe o valor absoluto de x ( valor sem negativo)\n"
   ]
  },
  {
   "cell_type": "markdown",
   "metadata": {},
   "source": [
    "## <kbd>Operadores Racionais: </kbd>  <kbd> >, <, >=, <= , == , !=  </kbd>\n",
    "## <kbd>Operadores Logicos : </kbd>  <kbd> &&, || , !</kbd>\n",
    "\n",
    "\n",
    "Estrutura <mark>Condicionais Simples 1</mark>\n",
    "\n",
    "Estrutura <mark>Condicionais Composta 2</mark>\n",
    "\n",
    "Estrutura <mark>Condicionais Encadeada 3</mark>\n",
    "\n",
    "Estrutura <mark>Condicionais Escolha-Caso 4</mark>\n",
    "\n",
    "Estrutura <mark>Condicionais Ternaria 5</mark>"
   ]
  },
  {
   "cell_type": "code",
   "execution_count": null,
   "metadata": {
    "vscode": {
     "languageId": "java"
    }
   },
   "outputs": [],
   "source": [
    "1) Simples\n",
    "if (x > 0) {\n",
    "    System.out.print(\"Bom dia\");\n",
    "}\n",
    "\n",
    "\n",
    "2) Composta\n",
    "if (x > 0) {\n",
    "    System.out.print(\"Bom dia\");\n",
    "}else{\n",
    "    System.out.print(\"Bom Tarde\");\n",
    "}\n",
    "\n",
    "3) Encadeada\n",
    "if (condição){\n",
    "    }else if (condição){\n",
    "        }else { \n",
    "                     }\n",
    "\n",
    "if (x > 0) {\n",
    "    System.out.print(\"Bom dia\");\n",
    "}else{\n",
    "    if (x > 1) {\n",
    "        System.out.print(\"boa tarde\");\n",
    "    }else{\n",
    "        \n",
    "        System.out.print(\"Boa Noite\");\n",
    "    }\n",
    "\n",
    "\n",
    "}\n",
    "\n",
    "4) Caso Escolha\n",
    "switch (x){\n",
    "    case 1:\n",
    "    System.out.print(\"Bom dia\");\n",
    "    break;\n",
    "    case 2:\n",
    "    System.out.print(\"Boa Tarde\");\n",
    "    break;\n",
    "    default:\n",
    "    System.out.print(\"Boa Noite\");\n",
    "    break;\n",
    "}\n",
    "\n",
    "5) Ternaria\n",
    "(Condicao) ? valor_se_verdardadeiro : valor_se_falso;\n",
    "(2>4) ? 50 : 80 ; R: 80\n",
    "(10!= 3) ? \"Willian\" : \"Nicole\"; R: Willian\n",
    "double preco = 34.5;\n",
    "double desconto = (preco < 20.0) ? preco * 0.1 : preco * 0.05;"
   ]
  },
  {
   "cell_type": "markdown",
   "metadata": {},
   "source": [
    "\n",
    "## <kbd>Atribuição Cumulativa</kbd>\n",
    "<kbd>A += b;</kbd> ---->  A = A + B\n",
    "\n",
    "<kbd>A -= b;</kbd> ----> A = A - B\n",
    "\n",
    "<kbd>A *= b;</kbd> ----> A = A * B\n",
    "\n",
    "<kbd>A /= b;</kbd> ----> A = A / B\n",
    "\n",
    "<kbd>A %= b;</kbd> ----> A = A % B"
   ]
  },
  {
   "cell_type": "markdown",
   "metadata": {},
   "source": [
    "## <kbd>Laço de repetição Enquanto</kbd>\n",
    "É uma estrutura de controle que repete um bloco de comandos enquanto uma condição for **verdadeira**, quando nao sei quantas vezes preciso repetir\n",
    "\n",
    "## <kbd>Laço de repetição for</kbd>\n",
    "\n",
    "é uma estrutura de controle que repete um bloco de comandos para um certo intervalo de valores:**Quando se sabe a quantidade de vezes que vai se repetir**\n",
    "\n",
    "## <kbd>Laço de repetição faça-Enquanto</kbd>\n",
    "O bloco de comendados é **executado pelo menos uma vez, pois a condição é verificada no final.**\n",
    "\n"
   ]
  },
  {
   "cell_type": "code",
   "execution_count": null,
   "metadata": {
    "vscode": {
     "languageId": "java"
    }
   },
   "outputs": [],
   "source": [
    "Enquanto)\n",
    "\n",
    "while (condicao){\n",
    "    System.out.println(\"So vai executar se for a codição for verdadeira, se for falso pula diferente do DO, que executa uma vez altomatica.\");\n",
    "}\n",
    "\n",
    "Laço for)\n",
    "for (Inicio i =0; Condição i > 0; Incremento i ++){\n",
    "    System.out.println(\"Quando se sabe quantas vezes o laço precisa ser repetido\");\n",
    "}\n",
    "\n",
    "Faça Enquanto)\n",
    "do {\n",
    "    System.out.println(\"O bloco de comendados é executado pelo menos uma vez, pois a condição é verificada no final.\");\n",
    "} while (Condição);\n"
   ]
  },
  {
   "cell_type": "markdown",
   "metadata": {},
   "source": [
    "## <kbd>Funçoes interessantes para String Aula F042 Nelio Alvez</kbd>\n",
    "\n",
    "\n",
    "\n",
    "    Formatar: String Txt1 = \"01234567891\"\n",
    "\n",
    "<kbd>toLowerCase()</kbd> Minusculo Ex = String txt2 = txt1.toLowerCase()\n",
    "\n",
    "<kbd>toUpperCase()</kbd> Mausculo Ex = String txt2 = txt1.toUpperCase()\n",
    "\n",
    "<kbd>trim()</kbd> Tira espaço do inicio e do final Ex = String txt2 = txt1.trim()\n",
    "\n",
    "    Recorta: String Txt1 = \"0123456789\"\n",
    "\n",
    "<kbd>substring(inico):</kbd>Exibi a string da posição que eu manda EX String txt2 = txt1.substring(2) = Txt2 = 234567891 \n",
    "\n",
    "<kbd>substring(inicio,fio)</kbd> Exibi a string da posição que eu manda EX String txt2 = txt1.substring(2,9) = Txt2 = 2345678\n",
    "\n",
    "    Substituir: String Txt1 = \"0123456789aAab\"\n",
    "\n",
    "<kbd>Replace('char','char')</kbd> Vai troca toda as cobinaçoes que ela achar Ex = String txt2 = txt1.Replace('a','C') = Txt2 = 0123456789CACb\n",
    "\n",
    "<kbd>Replace('string','string')</kbd> Vai troca toda as cobinaçoes que ela achar  Ex = String txt2 = txt1.Replace('aAab','x') = Txt2 = 0123456789x\n",
    "\n",
    "    Busca: String Txt1 = \"0123456789aAab\"\n",
    "\n",
    "<kbd>IndexOf</kbd> A primeira Pocição que ele achar a palavra ou letra Ex = String txt2 = txt1.IndexOf('345') = 3\n",
    "\n",
    "<kbd>LastIndexOf</kbd> A ultima Pocição que ele achar a palavra ou letra Ex = String txt2 = txt1.IndexOf('789') = 7\n",
    "\n",
    "    Operação split: txt1 = \"abc-efg-hij\";\n",
    " ele gera um vetor, e separa os vetores baseado no separador que eu informei para split, no caso usei \"  -  \" , porem podia ser espaço ou / , - , _\n",
    "<kbd>str.Split(\" \")</kbd> \n",
    "\n",
    "\n",
    "0[abc] 1 [efg] 2[hij] txt2\n",
    "\n",
    "String[] txt2 = txt1.plit(\" \");\n",
    "String word1 = txt2[0];\n",
    "String word1 = txt2[1];\n",
    "String word1 = txt2[2];\n",
    "System.out.println(txt2[0] + txt2[1] + txt2[2]);\n",
    "\n"
   ]
  },
  {
   "cell_type": "markdown",
   "metadata": {},
   "source": [
    "## <kbd>Funçoes</kbd>\n",
    "    - Representa um processamento que possui um significado\n",
    "       Math.sqrt(double)\n",
    "       System.out.println(String)\n",
    "\n",
    "    - Principais vantagens: Modularização, delegação e reaproveitamento\n",
    "\n",
    "    - Dados de entrada e saida    \n",
    "       Funçoes podem receber dados de entrada(Paramentros ou Argumentos)\n",
    "       Funçoes podem ou nao retornar uma saida\n",
    "    \n",
    "#### Em Orientação a objetos, ***FUNÇÔES EM CLASSE RECEBEM O NOME DE \"METODO\"***\n",
    "\n",
    "\n",
    "\n",
    "\n",
    "\n"
   ]
  },
  {
   "cell_type": "code",
   "execution_count": null,
   "metadata": {
    "vscode": {
     "languageId": "java"
    }
   },
   "outputs": [],
   "source": [
    "public static <RetornoTipoDaVariavel(INT)> <Nomevariavel(MAX)> (TipoDaVariavelqueRecebe paramentro) {}\n",
    "public static int max(int x, int y, int z) {\n",
    "    int aux = 1;\n",
    "\n",
    "    return aux;\n",
    "}\n",
    "\n",
    "\n",
    "- Procedimentos recebem void no RetornoTipoDaVariavel pois nao retornam nada. Ja as funçoes especificamos o RetornoTipoDaVariavel e tem o return pare retorna um valor .\n",
    "\n"
   ]
  },
  {
   "cell_type": "markdown",
   "metadata": {},
   "source": [
    "\n",
    "## <kbd>Classe</kbd>\n",
    "    ° É um tipo estruturado que pode conter(membros):\n",
    "       - Atributos (dados / campos) Ex :Nome,Cpf, telefone Email\n",
    "       - Métodos (funções / operaçoes) Ex : \n",
    "    ° A Classe tambem pode prover muitos outros recursos, tais como:\n",
    "       - Construtores\n",
    "       - Sobrecarga\n",
    "       - Encapsulamento\n",
    "       - Herança\n",
    "       - Polimorfismo\n",
    "\n",
    "    ° Exemplos:\n",
    "       - Entidades: Produto, Cliente, Triangulo\n",
    "       - Serviços: ProdutoService, ClienteService, EmailService, StorageService\n",
    "       - Controladores: ProdutoController, ClienteController\n",
    "       - Utilitarios: Calculadora, Compactador\n",
    "       - Outros (Views, Repositorios, Gerenciadores, etc.)\n",
    "\n",
    "       Classe,Objetos,Atributos\n",
    "\n",
    "         classe: é a definição do tipo\n",
    "\n",
    "         Objetos; são instacias da classe\n",
    "\n",
    "### Public indica que essa função vai pode ser usado em outro arquivo\n",
    "this.quantity = quantity, this diz que quero acessa o atributo da calsse e nao o metodo quantity"
   ]
  },
  {
   "cell_type": "code",
   "execution_count": null,
   "metadata": {
    "vscode": {
     "languageId": "java"
    }
   },
   "outputs": [],
   "source": [
    "import entities.Triangulo;\n",
    "\n",
    "public class Main {\n",
    "    public static void main(String[] args) {\n",
    "\n",
    "// X e Y são Tipo, Triagulo, como fosse um registro,  é mando eles recebe as 3 variavel logo a baixo        \n",
    "        Triangulo x,y;\n",
    "        Product Produtos = new product();\n",
    "\n",
    "        x = new Triangulo();\n",
    "        y = new Triangulo();\n",
    "\n",
    "        x.a = 5;\n",
    "        x.b =4;\n",
    "        x.c = 3;\n",
    "\n",
    "        y.a = 1;\n",
    "        y.b = 2;\n",
    "        y.c = 3;\n",
    "\n",
    "\n",
    "        }\n",
    "    }\n"
   ]
  },
  {
   "cell_type": "markdown",
   "metadata": {},
   "source": [
    "#### Toda Classe em java é uma subClasse Object aula F049\n",
    "\n",
    "    Object possui os seguintes métodos:\n",
    "      getClass - retorna o tipo do objeto\n",
    "      equals - compara se o objeto é igual a outro\n",
    "      hashCode - retorna um codigo hash do objeto\n",
    "      toString - converte o objeto para string"
   ]
  },
  {
   "cell_type": "code",
   "execution_count": null,
   "metadata": {
    "vscode": {
     "languageId": "java"
    }
   },
   "outputs": [],
   "source": [
    "System.out.println(produto);\n",
    "\n",
    "public String toString(){\n",
    "return name + \"$\" + String.format(\"%.2f\",prince) + qiantidade + total;\n",
    "\n",
    "}\n"
   ]
  },
  {
   "cell_type": "markdown",
   "metadata": {},
   "source": [
    "### <kbd>Membro Estaticos - Constante - PI</kbd>\n",
    "  ***Final*** Antse do tipo da variavel para dizer que ela é constante,  e LETRAS TUDO MAIUSCULO NO NOME DA VARIAVEL\n",
    "  \n",
    "    °Tambem Chamados Membros de classe\n",
    "      - EM oposição a membros e instância \n",
    "    \n",
    "    °São membros que fazem sentido independentemente de objetos. Não precisam de objeto para serem chamados. São chamados a parti do proprio nome da classe.\n",
    "\n",
    "    °Aplicações comuns:\n",
    "      -Classes Utilitárias\n",
    "      -Declaração de constantes\n",
    "    \n",
    "    °Uma Classe que possui somente membros estaticos, pode ser uma classe estatica tambem. esta classe não poderá ser instanciada.\n",
    "\n",
    "\n",
    "    anotações\n",
    "    instancia: o valor muda, estatico : o valor nao muda\n",
    "\n",
    "    "
   ]
  },
  {
   "cell_type": "code",
   "execution_count": null,
   "metadata": {
    "vscode": {
     "languageId": "java"
    }
   },
   "outputs": [],
   "source": [
    "public static final double PI = 3.14;"
   ]
  },
  {
   "cell_type": "markdown",
   "metadata": {},
   "source": []
  },
  {
   "cell_type": "markdown",
   "metadata": {},
   "source": []
  },
  {
   "cell_type": "markdown",
   "metadata": {},
   "source": [
    "### <kbd>Construtores</kbd>\n",
    "1. É uma operação especial da classe, que executa no momento da instaciação do objeto\n",
    "\n",
    "2. Usos Comuns:\n",
    "\n",
    "   ``Iniciar valores dos atributos``\n",
    "    \n",
    "   ```` Permitir ou obrigar que o objeto receba dados/ dependencias no momento de sua instanciação(injeção de dependencia)````\n",
    "\n",
    "3. Se um construtor customizado não for especificado, a classe disponibiliza o construtor padrão: EX - `Product p = new product():`\n",
    "\n",
    "4. É Possivel especificar mais de um construtor na mesma classe(Sobrecarga)\n",
    "\n",
    "\n",
    "### <kbd>this</kbd>\n",
    "* É uma referencia para o proprio objeto\n",
    "\n",
    "* Usos Comuns:\n",
    "   * Diferenciar Atributos de variaveis locais\n",
    "   * Passar o proprio objeto como argumento na chamada de um metodo ou construtor\n"
   ]
  },
  {
   "cell_type": "code",
   "execution_count": null,
   "metadata": {
    "vscode": {
     "languageId": "java"
    }
   },
   "outputs": [],
   "source": [
    "class\n",
    "public class Product {\n",
    "    //atributos\n",
    "    public String name;\n",
    "    public double price;\n",
    "    public int quantity;\n",
    "\n",
    "// construtor o COntrutor tem o mesmo nome da classe. é o This é para se referir ao atributo\n",
    "    public Product(String name, double price, int quantity ){\n",
    "        this.name = name;\n",
    "        this.price = price;\n",
    "        this.quantity = quantity;\n",
    "\n",
    "\n",
    "    }\n",
    "\n",
    "\n",
    "}\n",
    "\n",
    "Main\n",
    "Strinf name = \"oi\", double prince = 5,50 , int quantity = 5;\n",
    "Product product = new Product(name,price,quantity); To passando so valores pro construtor ja. para ter certeza que vou usa todos meus atributos."
   ]
  },
  {
   "cell_type": "markdown",
   "metadata": {},
   "source": [
    "### <kbd>Encapsulamento</kbd>\n",
    "* É um Principio que consiste em esconder detalhes de implementação de uma classe, expondo apenas operações seguras e que mantenham os objetos em um estado consistente\n",
    "* ``Regra de ouro:`` o objeto deve sempre estar em um estado consistente, e a propria classe deve garantir isso.\n",
    "##### <kbd>Regra geral Básica</kbd>\n",
    "* Um objeto `NÂO` deve expor nenhum atributo (modificador de acesso `Private`)\n",
    "* Os atributos devem ser acessados por meio de metodos get e set \n",
    "    * Padrao JavaBeans: https://pt.wikipedia.org/wiki/JavaBeans\n",
    "\n",
    "##### <kbd>Padrao para implementação de getters e setters</kbd>\n",
    "* Exemplo no codigo a baixo\n",
    "\n",
    "`Usado quando quero acessar ou gravar um atributo privado`\n",
    "\n"
   ]
  },
  {
   "cell_type": "code",
   "execution_count": null,
   "metadata": {
    "vscode": {
     "languageId": "java"
    }
   },
   "outputs": [],
   "source": [
    "Encapsulamento\n",
    "private String name;\n",
    "private double price;\n",
    "//getters Leitura de dado\n",
    "public String getName(){\n",
    "    return name;\n",
    "}\n",
    "//Setters Gravação de dado\n",
    "public void setName(String name) {\n",
    "    this.name = name;\n",
    "}\n"
   ]
  },
  {
   "cell_type": "markdown",
   "metadata": {},
   "source": [
    "### <kbd>Modifificadores de Acesso</kbd>\n",
    "* https://docs.oracle.com/javase/tutorial/java/javaOO/accesscontrol.html\n",
    "* <kbd>- Private</kbd>: o membro só pode ser acessado na `Própria classe` \n",
    "* (nada): o membro so pode ser acessado na classes do `mesmmo pacote, que esteja na mesma pasta do (Package)`\n",
    "\n",
    "* <kbd># Protected</kbd>: o membro só pode ser acessado no `mesmo pacote`, bem como em `subclasses de pacotes diferentes`\n",
    "* <kbd>+ Public</kbd>: o membro é acessado por todas classes (ao menos que ele resida em um módulo diferente que não exporte o pacote onde ele está)\n",
    "\n",
    "\n",
    "\n",
    "\n"
   ]
  },
  {
   "cell_type": "markdown",
   "metadata": {},
   "source": [
    "### <kbd>Tipos Referencia vs Tipos valor</kbd>\n",
    "### Classes são tipos Referencia\n",
    "Variaveis cujo tipo são classes não devem ser entendidas como caixas, mas sim \"Tentaculos\"(ponteiros) para caixas\n",
    "\n",
    "![Referencias de classes.jpg](https://i.postimg.cc/rmfd4DvT/Referencias-de-classes.jpg)\n",
    "\n",
    "### <kbd>Valor ``Null``</kbd>\n",
    "Tipo referencia, aceitam o valor null, que indica que a variavel aponta pra ninguem\n",
    "\n",
    "### <kbd>Tipos primitivos são Tipos Valor</kbd>\n",
    "Em java, tipos primitivos são tipos valor. TIpos valor são `Caixas` e não ponteiros\n",
    "    tipos primitivos e inicialização\n",
    "* Demo: p = 0\n",
    "\n",
    "### <kbd>Valores padrão</kbd>\n",
    "* Quando alocamos (new) qualquer tipo estruturado (``classe ou array``), são atribuidos valores padrão aos elementos\n",
    "    * números: ``0``\n",
    "    * boolean: ``false``\n",
    "    * char: ``caractere codigo 0``\n",
    "    * objeto: ``null``\n",
    "\n",
    "[![Tipos referencia vs tipos valor.jpg](https://i.postimg.cc/wxC1KYc9/image.png)](https://postimg.cc/F1xrcqB6)"
   ]
  },
  {
   "cell_type": "markdown",
   "metadata": {},
   "source": [
    "### <kbd>Desalocação de memoria - garbage collector e escopo local</kbd>\n",
    "### <kbd>``Garba Collector``</kbd>\n",
    "* É um processo que automatiza o gerenciamento de memória de um programa em execução\n",
    "* O garbage collector monitora os objetos alocados dinamicamente pelo programa (no heap), desalocando aqueles que não estão mais sendo utilizados.\n",
    "\n"
   ]
  },
  {
   "cell_type": "markdown",
   "metadata": {},
   "source": [
    "### <kbd>Vetores</kbd>\n",
    "double[] preco = new double[5];\n",
    "### <kbd>Vetor em ``classe``</kbd>\n",
    "\n",
    "\n",
    "\n",
    "\n",
    "\n",
    "\n",
    "\n"
   ]
  },
  {
   "cell_type": "code",
   "execution_count": null,
   "metadata": {
    "vscode": {
     "languageId": "java"
    }
   },
   "outputs": [],
   "source": [
    "Product[] preco = new product[(preco.length)];\n",
    "\n",
    "preco[0].setNome = 1\n",
    "\n",
    "preco[0].setidade = 1\n",
    "\n",
    "vect[0] = new Product(name,idade);\n"
   ]
  },
  {
   "cell_type": "markdown",
   "metadata": {},
   "source": [
    "### <kbd>Boxing, Unboxing e wrapper classes</kbd>\n",
    "##### <kbd>`Boxing`</kbd>\n",
    "* É o processo de conversão de um objeto tipo valor para um objeto tipo referencia compativel\n",
    "\n",
    "    x = 10 ;\n",
    "    \n",
    "    Object variavel = x;\n",
    "\n",
    "     int y = (int) variavel\n",
    "\n",
    "[![Wrapper classes.jpg](https://i.postimg.cc/qqWjfs8B/image.png)](https://postimg.cc/30CgmDSz)\n",
    "\n",
    "\n",
    "##### <kbd>`Wrapper Classes`</kbd>\n",
    "* São classes equivalentes ao tipos primitivos\n",
    "* Boxing é Unboxing é natural na linguagem\n",
    "* Uso comum: campos de entidades em sistema de informação(importante!)\n",
    "    * Pois tipos referencias (classes) aceitam valor null é usufruem dos recursos Orientação. Obejeto\n",
    "\n",
    "\n",
    "   x = 10 ;\n",
    "    \n",
    "    ``i``nteger variavel = x;\n",
    "    \n",
    "    int y = variavel\n"
   ]
  },
  {
   "cell_type": "markdown",
   "metadata": {},
   "source": [
    "##### <kbd>Laço `For Each`</kbd>\n",
    "* Sintaxe opcional e simplificada para percorrer coleçoes\n"
   ]
  },
  {
   "cell_type": "code",
   "execution_count": null,
   "metadata": {
    "vscode": {
     "languageId": "java"
    }
   },
   "outputs": [],
   "source": [
    "String[] vectorNome = new String[] {\"maria\",\"jose\"}\n",
    "\n",
    "opcao de exibicao 1\n",
    "for (int i=0; i < vectorNome.length; i++){\n",
    "    comando\n",
    "}\n",
    "\n",
    "opcao de exibicao 2\n",
    "For(tipo apelido : coleção) {\n",
    "comando 1\n",
    "comando 2\n",
    "}\n",
    "\n",
    "for (String i : vectorNome){ // para cada objeto \"I\" no vector VectorNome faca \n",
    "    System.out.println(i);\n",
    "}\n",
    "\n",
    "\n",
    "\n"
   ]
  },
  {
   "cell_type": "markdown",
   "metadata": {},
   "source": [
    "### <kbd>Listas</kbd>\n",
    "* Lista é uma estrutura de dados:\n",
    "    * Homogeneas(Dados do mesmo tipo)\n",
    "    * Ordenada(Elementos acessados por meio de posiçoes)\n",
    "    * inicia vazia, e seus elementos são alocados sob demanda\n",
    "    * cada elemento ocupa um \"nó\" (ou nodo) da lista\n",
    "\n",
    "* Tipo (interface): List\n",
    "* Classes que implementam: ArrayList, LinkedList, etc.\n",
    "\n",
    "* Vantagens:\n",
    "    *Tamanho variavel\n",
    "    *Facilidade para se realizar inserçoes e deleçoes\n",
    "\n",
    "* Desvantagem\n",
    "    * Acesso sequencial aos elementos *\n",
    "\n",
    "\n",
    "[![lista.jpg](https://i.postimg.cc/3J0V9BGc/image.png)](https://postimg.cc/qz01v2js)\n",
    "\n"
   ]
  },
  {
   "cell_type": "code",
   "execution_count": null,
   "metadata": {
    "vscode": {
     "languageId": "java"
    }
   },
   "outputs": [],
   "source": [
    "List<Integer> list = new ArrayList<>();\n",
    "list.add(\"Maria\"); add algo a lista\n",
    "lsit.add(1,\"Marcos\"); add algo na posicao desejada\n",
    "System.out.println(list.size()); exibe o tamanho da lista\n",
    "\n",
    "list.remove(1); or list.remove(\"Maria\");\n",
    "list.removeIf(x-> x.charAt(0) == 'M'); remove todos com a letra M\n",
    "\n",
    "System.out.println(list.indexOf(\"Maria\")); descobre a posição de Maria = 0\n",
    "\n",
    "List<String> result = list.stream().filter(x -> x.charAt(0) == 'M').collect(Collectors.toList()); filtra so a as pessoas com letra M\n",
    "\n",
    "String name = list.stream().filter(x -> x.charAt(0) == 'M').findFirst().orElse(null);\n",
    "\n"
   ]
  },
  {
   "cell_type": "markdown",
   "metadata": {
    "vscode": {
     "languageId": "java"
    }
   },
   "source": [
    "### <kbd>Matrizes</kbd>\n",
    "* Em progamação, `Matriz` é o nome dado a arranjos bidimensionais\n",
    "    * Atenção: \"Vetor de vetores\"\n",
    "\n",
    "* Arranjo(array) é uma estrutura de dados:\n",
    "    * Homogenea(dados do mesmo tipo)\n",
    "    * Ordenada(elementos acessados por meio de posições)\n",
    "    * Alocada de uma vez só, em um bloco contiguo de memoria\n",
    "\n",
    "* Vantagens:\n",
    "    * Acesso imediato aos elementos pela sua posição\n",
    "\n",
    "* Desvantagens:\n",
    "    * Tamanho fixo\n",
    "    * Dificuldade para se realizar inserções e deleções"
   ]
  },
  {
   "cell_type": "code",
   "execution_count": null,
   "metadata": {
    "vscode": {
     "languageId": "java"
    }
   },
   "outputs": [],
   "source": [
    "int[][] mat = new int[3][3];\n",
    "\n",
    "for (int i=0; i<n; i++ ){\n",
    "    for (int j=0; i<n; j++ ){\n",
    "    mat[i][j] = sc.nextInt();\n",
    "    \n",
    "    }\n",
    "\n",
    "}\n"
   ]
  },
  {
   "cell_type": "markdown",
   "metadata": {},
   "source": [
    "### <kbd>Conceitos Data e Hora</kbd>\n",
    "\n",
    "* `Data-[hora] local`\n",
    "    * ano-mes-dia-[hora] sem fuso horario\n",
    "    * [hora] opcional\n",
    "\n",
    "* `Data-hora global`\n",
    "    * ano-mes-dia-hora com fuso horario    \n",
    "\n",
    "* `Duração`\n",
    "    * tempo decorrido entre duas data-horas\n",
    "\n",
    "    [![Data-Hora.jpg](https://i.postimg.cc/vBz8zGkg/image.png)](https://postimg.cc/vg4d8wQb)\n",
    "\n",
    "### <kbd>Timezone (Fuso Horario)</kbd>\n",
    "* ``GMT - Greenwich Mean Time``\n",
    "    * Horario de londres\n",
    "    * Horario do padrao UTC - Coordinated Universal Time\n",
    "    * Também chamado de `Z` time, ou Zulu Time\n",
    "\n",
    "* Outros fuso horarios são relativos ao GMT/UTC:\n",
    "    * São paulo: GMT-3\n",
    "    * Manaus: GMT-4\n",
    "    * Portugal: GMT+1\n",
    "\n",
    "* Muitas linguagens/tecnologias usam nomes para as timezones:\n",
    "    * \"US/Pacific\"\n",
    "    * \"America/Sao_Paulo\"\n",
    "    * etc.\n",
    "\n",
    "    [![PadraoIso.jpg](https://i.postimg.cc/cCT5Lbj8/image.png)](https://postimg.cc/PvpM62dt)      [![Operacoes DATA.jpg](https://i.postimg.cc/xC1mSpKZ/image.png)](https://postimg.cc/d7g32BNR) \n",
    "\n",
    "\n",
    "### <kbd>Data Principais Tipos Java V8</kbd>\n",
    "* Data-hora local\n",
    "    * LocalDate\n",
    "    * LocalDateTime\n",
    "* Data-hora global\n",
    "    * instant\n",
    "\n",
    "* Duração\n",
    "   * Duration\n",
    "\n",
    "* Outros\n",
    "    * Zoneld\n",
    "    * ChronoUnit\n",
    "\n",
    "    \n",
    "\n",
    "\n"
   ]
  },
  {
   "cell_type": "code",
   "execution_count": null,
   "metadata": {
    "vscode": {
     "languageId": "java"
    }
   },
   "outputs": [],
   "source": [
    "import java.time.*;\n",
    "import java.time.format.DateTimeFormatter;\n",
    "import java.time.temporal.ChronoUnit;\n",
    "\n",
    "public class Main {\n",
    "    public static void main(String[] args) {\n",
    "\n",
    "        /* Brincado com a data\n",
    "        https://docs.oracle.com/en/java/javase/17/docs/api/java.base/java/time/format/DateTimeFormatter.html\n",
    "         */\n",
    "\n",
    "        // Fim brincando com datas\n",
    "\n",
    "        /*LocalDate d01 = LocalDate.now(); // DATA LOCAL SOMENTE\n",
    "        LocalDateTime d02 = LocalDateTime.now(); // DATA + HORAS LOCAL\n",
    "        Instant d03 = Instant.now(); // DATA + HORAS GLOBAL\n",
    "        //texto iso 8601 - data-hora\n",
    "        LocalDate d04 = LocalDate.parse(\"2022-07-20\");\n",
    "        LocalDateTime d05 = LocalDateTime.parse(\"2022-07-20T01:30:16\");\n",
    "        Instant d06 = Instant.parse(\"2022-07-20T01:30:16z\");\n",
    "        Instant d07 = Instant.parse(\"2022-07-20T01:30:16-03:00\");\n",
    "// texto formato customizado\n",
    "        DateTimeFormatter fmt1 = DateTimeFormatter.ofPattern(\"dd/MM/yyyy\");\n",
    "        LocalDate d08 = LocalDate.parse(\"20/07/2022\",fmt1);\n",
    "\n",
    "        DateTimeFormatter fmt2 =  DateTimeFormatter.ofPattern(\"dd/MM/yyyy HH:mm\");\n",
    "        LocalDateTime d09 = LocalDateTime.parse(\"20/07/2022 01:30\", fmt2);\n",
    "\n",
    "        LocalDate d10 = LocalDate.of(2022, 07, 20);\n",
    "\n",
    "        LocalDateTime d11 = LocalDateTime.of(2022, 07, 20, 1, 30);\n",
    "\n",
    "        System.out.println(d01);\n",
    "        System.out.println(d02);\n",
    "        System.out.println(d03);\n",
    "        System.out.println(d04);\n",
    "        System.out.println(d05);\n",
    "        System.out.println(d06);\n",
    "        System.out.println(d07);\n",
    "        System.out.println(d09);\n",
    "        System.out.println(d10);\n",
    "        System.out.println(d11);*/\n",
    "\n",
    "      //  Instant d03 = Instant.now(); // DATA + HORAS GLOBAL\n",
    "        //texto iso 8601 - data-hora\n",
    "/*\n",
    "\n",
    "        LocalDate d04 = LocalDate.parse(\"2022-07-20\");\n",
    "        DateTimeFormatter fmt1 = DateTimeFormatter.ofPattern(\"dd/MM/yyyy\");\n",
    "        System.out.println(d04.format(fmt1));\n",
    "\n",
    "        LocalDateTime d05 = LocalDateTime.parse(\"2022-07-20T01:30:16\");\n",
    "        DateTimeFormatter fmt2 = DateTimeFormatter.ofPattern(\"dd/MM/yyyy HH:mm\");\n",
    "        System.out.println(d05.format(fmt2));\n",
    "\n",
    "        Instant d06 = Instant.parse(\"2022-07-20T01:30:26z\");\n",
    "        DateTimeFormatter fmt3 = DateTimeFormatter.ofPattern(\"dd/MM/yyyy HH:mm\").withZone(ZoneId.systemDefault());// converte para fuso horario do pc\n",
    "        System.out.println(fmt3.format(d06));\n",
    "*/\n",
    "        /* \n",
    "        LocalDate d04 = LocalDate.parse(\"2022-07-20\");\n",
    "        LocalDateTime d05 = LocalDateTime.parse(\"2022-07-20T01:30:16\");\n",
    "        Instant d06 = Instant.parse(\"2022-07-20T01:30:16z\");\n",
    "\n",
    "        LocalDate r1 = LocalDate.ofInstant(d06,ZoneId.systemDefault()); // converte para fuso horario do pc\n",
    "        LocalDate r2 = LocalDate.ofInstant(d06,ZoneId.of(\"Portugal\"));\n",
    "        LocalDateTime r3 = LocalDateTime.ofInstant(d06,ZoneId.systemDefault());// converte para fuso horario do pc\n",
    "        LocalDateTime r4 = LocalDateTime.ofInstant(d06,ZoneId.of(\"Portugal\"));\n",
    "\n",
    "        System.out.println(r1);\n",
    "        System.out.println(r2);\n",
    "        System.out.println(r3);\n",
    "        System.out.println(r4);\n",
    "\n",
    "\n",
    "        System.out.println(d04.getDayOfMonth());\n",
    "        System.out.println(d04.getMonthValue());\n",
    "        System.out.println(d04.getYear());\n",
    "        System.out.println(d05.getHour());\n",
    "        System.out.println(d05.getMinute());\n",
    "*/\n",
    "// calculos com data-hora\n",
    "        LocalDate d04 = LocalDate.parse(\"2022-07-20\");\n",
    "        LocalDateTime d05 = LocalDateTime.parse(\"2022-07-20T01:30:16\");\n",
    "        Instant d06 = Instant.parse(\"2022-07-20T01:30:16z\");\n",
    "        LocalDate pastWeekLocalDate = d04.minusDays(7);\n",
    "        LocalDate nextWeekLocalDate = d04.plusDays(7);\n",
    "        System.out.println(nextWeekLocalDate);\n",
    "        System.out.println(pastWeekLocalDate);\n",
    "\n",
    "\n",
    "        LocalDateTime pastWeekLocalDateTime = d05.minusDays(7);\n",
    "        LocalDateTime nextWeekLocalDateTime = d05.plusDays(7);\n",
    "\n",
    "        System.out.println(nextWeekLocalDateTime);\n",
    "        System.out.println(pastWeekLocalDateTime);\n",
    "\n",
    "        Instant pastInstant = d06.minus(7, ChronoUnit.DAYS);\n",
    "        Instant nextInstant = d06.plus(7,ChronoUnit.DAYS);\n",
    "\n",
    "        System.out.println(pastInstant);\n",
    "        System.out.println(nextInstant);\n",
    "\n",
    "\n",
    "        //Duration t1 = Duration.between(pastWeekLocalDate.atTime(0,0), d04.atTime(0,0));\n",
    "        Duration t1 = Duration.between(pastWeekLocalDate.atStartOfDay(), d04.atStartOfDay());\n",
    "        Duration t2 = Duration.between(pastWeekLocalDateTime, d05);\n",
    "        Duration t3 = Duration.between(d06,nextInstant);\n",
    "        System.out.println(t1.toDays());\n",
    "        System.out.println(t2.toDays());\n",
    "        System.out.println(t3.toDays());\n",
    "    }\n",
    "}"
   ]
  },
  {
   "cell_type": "markdown",
   "metadata": {
    "vscode": {
     "languageId": "java"
    }
   },
   "source": [
    "\n",
    "### <kbd>Enumeração</kbd>\n",
    "* É um tipo especial que serve para especificar de forma literal um conjunto de constantes relacionadas\n",
    "* Palavra chave em Java: enum\n",
    "* Vantagem: melhor semantica, codigo mais legivel e auxiliado pelo compilador\n",
    "\n",
    "\n",
    "\n",
    "### <kbd>Composição de objetos/kbd>\n",
    "#### <kbd>Categorias de classes</kbd>\n",
    "* Em um sistema orientado a objetos, de modo geral `tudo` é um objeto.\n",
    "* Por questoes de design tais como organização, flexibilidade, reuso, delegação, etc., há varias categorias de classes;\n",
    "\n",
    "<kbd>Views</kbd> <kbd>Controllers</kbd> <kbd>Entities</kbd> <kbd>Services</kbd> <kbd>Repositories</kbd>\n",
    "\n",
    "\n"
   ]
  },
  {
   "cell_type": "markdown",
   "metadata": {},
   "source": [
    " #### Resumo de de Função.\n",
    "\n",
    "Funções tem `Public` :  que essa Função fique disponivel em outra classe ou arquivo `Static`: pode ser chamada independente de criar um objeto\n",
    "\n",
    "Funçoes não vai Class no public\n",
    "\n",
    "    public static int max(int x, int y, int z) {return ;}\n",
    "\n",
    "   Resumo de de Classe.\n",
    "   \n",
    " \n",
    " #### Classe \n",
    "public class Triangulo{}\n",
    "\n",
    " triangulo x = new triangulo();\n",
    " x.a = 5;\n",
    "\n",
    "metodos são funcoes.\n",
    "\n",
    "#### Static / Constante\n",
    "  Constate coloca-se final antes do tipo da variavel.\n",
    "Static são Constante. com isso não precisa se instanciar um objeto para depois char um objeto, posso chamar ele direto\n",
    "\n",
    "#### Construtores\n",
    "\n",
    "\n",
    "\n",
    "    \n",
    "\n"
   ]
  },
  {
   "cell_type": "code",
   "execution_count": null,
   "metadata": {
    "vscode": {
     "languageId": "java"
    }
   },
   "outputs": [],
   "source": [
    "Resumo de de Função.\n",
    "public static int max(int x, int y, int z) {return ;}\n",
    "\n",
    "\n",
    "Resumo de Classe\n",
    "public class Triangulo{\n",
    "Metedo-\n",
    "public void areatriangulo(int x){ }\n",
    "}\n",
    "\n",
    "- chamada da class no main\n",
    "triangulo x = new triangulo();\n",
    "\n",
    "Constante\n",
    "public static FINAL double PI_ABSOLUTO = 3.13159;\n",
    "\n"
   ]
  },
  {
   "cell_type": "markdown",
   "metadata": {},
   "source": []
  },
  {
   "cell_type": "markdown",
   "metadata": {},
   "source": [
    "#########<kbd>MANUAL EDITOR</kbd>\n",
    "\n",
    "Negrito ** **\n",
    "\n",
    "italico __ __\n",
    "Taxadp ~~ ~~~\n",
    "\n",
    "18N <abbr>I18N</abbr>\n",
    "\n",
    "Citation <cite>Citation</cite>\n",
    "\n",
    "Ctrl + S <kbd>Ctrl + S</kbd>\n",
    "\n",
    "TextSuperscripted <sup>Superscripted</sup>\n",
    "\n",
    "TextSubscripted <sub>Subscripted</sub>\n",
    "\n",
    "Underlined <u>Underlined</u>\n",
    "\n",
    "Highlighted <mark>Highlighted</mark>\n",
    "\n",
    "20:14 <time>20:14</time>\n",
    "\n",
    "x = y + 2 <var>x = y + 2</var>\n",
    "\n",
    "> Esse trecho de texto é uma citação\n",
    "> \n",
    "> <cite>- Eagle Tecnologia</cite>\n",
    "\n",
    "\n"
   ]
  },
  {
   "cell_type": "markdown",
   "metadata": {},
   "source": []
  }
 ],
 "metadata": {
  "kernelspec": {
   "display_name": "Python 3",
   "language": "python",
   "name": "python3"
  },
  "language_info": {
   "codemirror_mode": {
    "name": "ipython",
    "version": 3
   },
   "file_extension": ".py",
   "mimetype": "text/x-python",
   "name": "python",
   "nbconvert_exporter": "python",
   "pygments_lexer": "ipython3",
   "version": "3.8.8"
  }
 },
 "nbformat": 4,
 "nbformat_minor": 4
}
